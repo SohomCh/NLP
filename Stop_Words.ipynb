{
  "nbformat": 4,
  "nbformat_minor": 0,
  "metadata": {
    "colab": {
      "provenance": [],
      "authorship_tag": "ABX9TyOOEYXz4cncufiEGZbkSrCN",
      "include_colab_link": true
    },
    "kernelspec": {
      "name": "python3",
      "display_name": "Python 3"
    },
    "language_info": {
      "name": "python"
    }
  },
  "cells": [
    {
      "cell_type": "markdown",
      "metadata": {
        "id": "view-in-github",
        "colab_type": "text"
      },
      "source": [
        "<a href=\"https://colab.research.google.com/github/SohomCh/NLP/blob/main/Stop_Words.ipynb\" target=\"_parent\"><img src=\"https://colab.research.google.com/assets/colab-badge.svg\" alt=\"Open In Colab\"/></a>"
      ]
    },
    {
      "cell_type": "code",
      "execution_count": 3,
      "metadata": {
        "colab": {
          "base_uri": "https://localhost:8080/"
        },
        "id": "LQRF7F8z2Usy",
        "outputId": "5966ae5a-7b6e-4d82-dfa1-b252679347a8"
      },
      "outputs": [
        {
          "output_type": "stream",
          "name": "stdout",
          "text": [
            "We\n",
            "just\n",
            "our\n",
            "the\n",
            "will\n",
            "be\n"
          ]
        }
      ],
      "source": [
        "import spacy\n",
        "from spacy.lang.en.stop_words import STOP_WORDS\n",
        "nlp=spacy.load('en_core_web_sm')\n",
        "doc = nlp(\"We just opend our wings the flight will be taken soon\")\n",
        "for token in doc:\n",
        "  if token.is_stop:\n",
        "    print (token)\n",
        "\n"
      ]
    },
    {
      "cell_type": "code",
      "source": [],
      "metadata": {
        "id": "AJ7ly_-E26q1"
      },
      "execution_count": null,
      "outputs": []
    },
    {
      "cell_type": "code",
      "execution_count": 7,
      "metadata": {
        "colab": {
          "base_uri": "https://localhost:8080/"
        },
        "outputId": "b0794051-66dc-4591-d4da-3e9f9073524b",
        "id": "dn-crhQL3gjm"
      },
      "outputs": [
        {
          "output_type": "execute_result",
          "data": {
            "text/plain": [
              "['opend', 'wings', 'flight', 'taken', 'soon']"
            ]
          },
          "metadata": {},
          "execution_count": 7
        }
      ],
      "source": [
        "import spacy\n",
        "from spacy.lang.en.stop_words import STOP_WORDS\n",
        "nlp=spacy.load('en_core_web_sm')\n",
        "def preprocess(text):\n",
        "  doc=nlp(text)\n",
        "  no_stop_words=[token.text for token in doc if not token.is_stop and not token.is_punct]\n",
        "  return no_stop_words\n",
        "\n",
        "preprocess(\"We just opend our wings the flight will be taken soon\")\n",
        "\n"
      ]
    },
    {
      "cell_type": "code",
      "source": [],
      "metadata": {
        "id": "YJTDTni74SVF"
      },
      "execution_count": null,
      "outputs": []
    }
  ]
}