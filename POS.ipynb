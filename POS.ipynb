{
  "nbformat": 4,
  "nbformat_minor": 0,
  "metadata": {
    "colab": {
      "provenance": [],
      "authorship_tag": "ABX9TyOS31lLY1PD6tHT+zRhcGFJ",
      "include_colab_link": true
    },
    "kernelspec": {
      "name": "python3",
      "display_name": "Python 3"
    },
    "language_info": {
      "name": "python"
    }
  },
  "cells": [
    {
      "cell_type": "markdown",
      "metadata": {
        "id": "view-in-github",
        "colab_type": "text"
      },
      "source": [
        "<a href=\"https://colab.research.google.com/github/SohomCh/NLP/blob/main/POS.ipynb\" target=\"_parent\"><img src=\"https://colab.research.google.com/assets/colab-badge.svg\" alt=\"Open In Colab\"/></a>"
      ]
    },
    {
      "cell_type": "code",
      "execution_count": 5,
      "metadata": {
        "colab": {
          "base_uri": "https://localhost:8080/"
        },
        "id": "MGTikSJILhPQ",
        "outputId": "0109513e-ef9b-4e6e-b9fb-14991d466b3a"
      },
      "outputs": [
        {
          "output_type": "stream",
          "name": "stdout",
          "text": [
            "Elon | PROPN | 96\n",
            "Musk | PROPN | 96\n",
            "is | AUX | 87\n",
            "the | DET | 90\n",
            "owner | NOUN | 92\n",
            "of | ADP | 85\n",
            "Tesla | PROPN | 96\n",
            ", | PUNCT | 97\n",
            "Twiterand | PROPN | 96\n",
            "Spacex | PROPN | 96\n",
            ". | PUNCT | 97\n",
            "He | PRON | 95\n",
            "is | AUX | 87\n",
            "now | ADV | 86\n",
            "running | VERB | 100\n",
            "for | ADP | 85\n",
            "election | NOUN | 92\n"
          ]
        }
      ],
      "source": [
        "import spacy\n",
        "nlp = spacy.load(\"en_core_web_sm\");\n",
        "txt =\"Elon Musk is the owner of Tesla,Twiterand Spacex.He is now running for election\"\n",
        "doc = nlp(txt)\n",
        "for t in doc:\n",
        "  print(t , \"|\" , t.pos_ ,\"|\",t.pos)"
      ]
    },
    {
      "cell_type": "code",
      "source": [
        "exercise = '''Inflation rose again in April, continuing a climb that has pushed consumers to the brink and is threatening the economic expansion, the Bureau of Labor Statistics reported Wednesday.\n",
        "\n",
        "The consumer price index, a broad-based measure of prices for goods and services, increased 8.3% from a year ago, higher than the Dow Jones estimate for an 8.1% gain. That represented a slight ease from March’s peak but was still close to the highest level since the summer of 1982.\n",
        "\n",
        "Removing volatile food and energy prices, so-called core CPI still rose 6.2%, against expectations for a 6% gain, clouding hopes that inflation had peaked in March.\n",
        "\n",
        "The month-over-month gains also were higher than expectations — 0.3% on headline CPI versus the 0.2% estimate and a 0.6% increase for core, against the outlook for a 0.4% gain.\n",
        "\n",
        "The price gains also meant that workers continued to lose ground. Real wages adjusted for inflation decreased 0.1% on the month despite a nominal increase of 0.3% in average hourly earnings. Over the past year, real earnings have dropped 2.6% even though average hourly earnings are up 5.5%.\n",
        "\n",
        "Inflation has been the single biggest threat to a recovery that began early in the Covid pandemic and saw the economy in 2021 stage its biggest single-year growth level since 1984. Rising prices at the pump and in grocery stores have been one problem, but inflation has spread beyond those two areas into housing, auto sales and a host of other areas.\n",
        "\n",
        "Federal Reserve officials have responded to the problem with two interest rate hikes so far this year and pledges of more until inflation comes down to the central bank’s 2% goal. However, Wednesday’s data shows that the Fed has a big job ahead.\n",
        "\n",
        "Credits: cnbc.com'''\n",
        "nlp = spacy.load(\"en_core_web_sm\")\n",
        "doc_2 = nlp(exercise)\n",
        "Noun =[]\n",
        "for t in doc_2:\n",
        "  if t.pos_ == \"NOUN\" or \"PROPN\":\n",
        "    Noun.append(t)\n",
        "count =(doc_2.count_by(spacy.attrs.POS))\n",
        "print(Noun)\n",
        "print(count)\n",
        "\n",
        ""
      ],
      "metadata": {
        "colab": {
          "base_uri": "https://localhost:8080/"
        },
        "id": "Sl6In7aSMCMX",
        "outputId": "deb14200-1076-4516-9502-e3f97108f14e"
      },
      "execution_count": 12,
      "outputs": [
        {
          "output_type": "stream",
          "name": "stdout",
          "text": [
            "[Inflation, rose, again, in, April, ,, continuing, a, climb, that, has, pushed, consumers, to, the, brink, and, is, threatening, the, economic, expansion, ,, the, Bureau, of, Labor, Statistics, reported, Wednesday, ., \n",
            "\n",
            ", The, consumer, price, index, ,, a, broad, -, based, measure, of, prices, for, goods, and, services, ,, increased, 8.3, %, from, a, year, ago, ,, higher, than, the, Dow, Jones, estimate, for, an, 8.1, %, gain, ., That, represented, a, slight, ease, from, March, ’s, peak, but, was, still, close, to, the, highest, level, since, the, summer, of, 1982, ., \n",
            "\n",
            ", Removing, volatile, food, and, energy, prices, ,, so, -, called, core, CPI, still, rose, 6.2, %, ,, against, expectations, for, a, 6, %, gain, ,, clouding, hopes, that, inflation, had, peaked, in, March, ., \n",
            "\n",
            ", The, month, -, over, -, month, gains, also, were, higher, than, expectations, —, 0.3, %, on, headline, CPI, versus, the, 0.2, %, estimate, and, a, 0.6, %, increase, for, core, ,, against, the, outlook, for, a, 0.4, %, gain, ., \n",
            "\n",
            ", The, price, gains, also, meant, that, workers, continued, to, lose, ground, ., Real, wages, adjusted, for, inflation, decreased, 0.1, %, on, the, month, despite, a, nominal, increase, of, 0.3, %, in, average, hourly, earnings, ., Over, the, past, year, ,, real, earnings, have, dropped, 2.6, %, even, though, average, hourly, earnings, are, up, 5.5, %, ., \n",
            "\n",
            ", Inflation, has, been, the, single, biggest, threat, to, a, recovery, that, began, early, in, the, Covid, pandemic, and, saw, the, economy, in, 2021, stage, its, biggest, single, -, year, growth, level, since, 1984, ., Rising, prices, at, the, pump, and, in, grocery, stores, have, been, one, problem, ,, but, inflation, has, spread, beyond, those, two, areas, into, housing, ,, auto, sales, and, a, host, of, other, areas, ., \n",
            "\n",
            ", Federal, Reserve, officials, have, responded, to, the, problem, with, two, interest, rate, hikes, so, far, this, year, and, pledges, of, more, until, inflation, comes, down, to, the, central, bank, ’s, 2, %, goal, ., However, ,, Wednesday, ’s, data, shows, that, the, Fed, has, a, big, job, ahead, ., \n",
            "\n",
            ", Credits, :, cnbc.com]\n",
            "{92: 96, 100: 27, 86: 15, 85: 39, 96: 16, 97: 32, 90: 34, 95: 4, 87: 13, 89: 10, 84: 23, 103: 7, 93: 19, 94: 4, 98: 8, 101: 1}\n"
          ]
        }
      ]
    }
  ]
}