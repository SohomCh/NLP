{
  "nbformat": 4,
  "nbformat_minor": 0,
  "metadata": {
    "colab": {
      "provenance": [],
      "authorship_tag": "ABX9TyMHfRlTcCMB/fviHqYozu7k",
      "include_colab_link": true
    },
    "kernelspec": {
      "name": "python3",
      "display_name": "Python 3"
    },
    "language_info": {
      "name": "python"
    }
  },
  "cells": [
    {
      "cell_type": "markdown",
      "metadata": {
        "id": "view-in-github",
        "colab_type": "text"
      },
      "source": [
        "<a href=\"https://colab.research.google.com/github/SohomCh/NLP/blob/main/Name_Entity_Recognition.ipynb\" target=\"_parent\"><img src=\"https://colab.research.google.com/assets/colab-badge.svg\" alt=\"Open In Colab\"/></a>"
      ]
    },
    {
      "cell_type": "code",
      "execution_count": 1,
      "metadata": {
        "id": "CFCjhZRqMVCM"
      },
      "outputs": [],
      "source": [
        "import spacy"
      ]
    },
    {
      "cell_type": "code",
      "source": [
        "import spacy\n",
        "nlp = spacy.load(\"en_core_web_sm\")\n",
        "doc = nlp(\"Elon Musk the owner if Tesla is worth  $300 billion\")\n",
        "for ent in doc.ents:\n",
        "  print(ent.text,\"|\" , ent.label_)"
      ],
      "metadata": {
        "colab": {
          "base_uri": "https://localhost:8080/"
        },
        "id": "yunVZI5rMkL1",
        "outputId": "3c10ee4a-0008-4e6b-fa2e-b5202be4f093"
      },
      "execution_count": 7,
      "outputs": [
        {
          "output_type": "stream",
          "name": "stdout",
          "text": [
            "Elon Musk | PERSON\n",
            "Tesla | ORG\n",
            "$300 billion | MONEY\n"
          ]
        }
      ]
    },
    {
      "cell_type": "code",
      "source": [
        "import spacy\n",
        "from spacy import displacy\n",
        "nlp = spacy.load(\"en_core_web_sm\")\n",
        "doc = nlp(\"Elon Musk the owner if Tesla is worth  $300 billion\")\n",
        "for ent in doc.ents:\n",
        "  print(ent.text,\"|\" , ent.label_)\n",
        "displacy.render(doc,style=\"ent\")"
      ],
      "metadata": {
        "colab": {
          "base_uri": "https://localhost:8080/",
          "height": 106
        },
        "id": "-qmiLXE7OO2r",
        "outputId": "25591a96-3e23-4ba4-d872-781ff615a8db"
      },
      "execution_count": 8,
      "outputs": [
        {
          "output_type": "stream",
          "name": "stdout",
          "text": [
            "Elon Musk | PERSON\n",
            "Tesla | ORG\n",
            "$300 billion | MONEY\n"
          ]
        },
        {
          "output_type": "display_data",
          "data": {
            "text/plain": [
              "<IPython.core.display.HTML object>"
            ],
            "text/html": [
              "<span class=\"tex2jax_ignore\"><div class=\"entities\" style=\"line-height: 2.5; direction: ltr\">\n",
              "<mark class=\"entity\" style=\"background: #aa9cfc; padding: 0.45em 0.6em; margin: 0 0.25em; line-height: 1; border-radius: 0.35em;\">\n",
              "    Elon Musk\n",
              "    <span style=\"font-size: 0.8em; font-weight: bold; line-height: 1; border-radius: 0.35em; vertical-align: middle; margin-left: 0.5rem\">PERSON</span>\n",
              "</mark>\n",
              " the owner if \n",
              "<mark class=\"entity\" style=\"background: #7aecec; padding: 0.45em 0.6em; margin: 0 0.25em; line-height: 1; border-radius: 0.35em;\">\n",
              "    Tesla\n",
              "    <span style=\"font-size: 0.8em; font-weight: bold; line-height: 1; border-radius: 0.35em; vertical-align: middle; margin-left: 0.5rem\">ORG</span>\n",
              "</mark>\n",
              " is worth  \n",
              "<mark class=\"entity\" style=\"background: #e4e7d2; padding: 0.45em 0.6em; margin: 0 0.25em; line-height: 1; border-radius: 0.35em;\">\n",
              "    $300 billion\n",
              "    <span style=\"font-size: 0.8em; font-weight: bold; line-height: 1; border-radius: 0.35em; vertical-align: middle; margin-left: 0.5rem\">MONEY</span>\n",
              "</mark>\n",
              "</div></span>"
            ]
          },
          "metadata": {}
        }
      ]
    },
    {
      "cell_type": "code",
      "source": [
        "import spacy\n",
        "from spacy import displacy\n",
        "nlp = spacy.load(\"en_core_web_sm\")\n",
        "doc = nlp(\"Twitter and Tesla are now under ELon Musk's control\")\n",
        "for ent in doc.ents:\n",
        "  print(ent.text ,\"|\", ent.label_)"
      ],
      "metadata": {
        "colab": {
          "base_uri": "https://localhost:8080/"
        },
        "id": "_JlBAsUvNUCi",
        "outputId": "03478ea8-5bf2-429b-dac5-7135d194c904"
      },
      "execution_count": 10,
      "outputs": [
        {
          "output_type": "stream",
          "name": "stdout",
          "text": [
            "Tesla | PERSON\n",
            "ELon Musk's | LAW\n"
          ]
        }
      ]
    },
    {
      "cell_type": "code",
      "source": [
        "# USING SPAN CLASS IN SPACY\n",
        "import spacy\n",
        "from spacy.tokens import Span\n",
        "nlp =spacy.load(\"en_core_web_sm\")\n",
        "doc = nlp(\"Twitter and Tesla are now under ELon Musk's control\")\n",
        "\n",
        "s1= Span(doc,0,1,label =\"ORG\")\n",
        "s2 = Span(doc,2,3 ,label=\"ORG\")\n",
        "s3=Span(doc,6,8,label=\"Person\")\n",
        "doc.set_ents([s1,s2,s3],default=\"unmodified\")\n",
        "\n",
        "for ent in doc.ents:\n",
        "  print(ent.text ,\"|\", ent.label_)\n",
        "\n"
      ],
      "metadata": {
        "colab": {
          "base_uri": "https://localhost:8080/"
        },
        "id": "uqK8y15wQkwk",
        "outputId": "ab63d522-6d29-45fc-f05f-b2c9255269fe"
      },
      "execution_count": 14,
      "outputs": [
        {
          "output_type": "stream",
          "name": "stdout",
          "text": [
            "Twitter | ORG\n",
            "Tesla | ORG\n",
            "ELon Musk | Person\n",
            "'s | LAW\n"
          ]
        }
      ]
    },
    {
      "cell_type": "code",
      "source": [],
      "metadata": {
        "id": "vvYha2IVSV0c"
      },
      "execution_count": null,
      "outputs": []
    }
  ]
}