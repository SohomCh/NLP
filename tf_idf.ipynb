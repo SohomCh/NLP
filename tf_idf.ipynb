{
  "nbformat": 4,
  "nbformat_minor": 0,
  "metadata": {
    "colab": {
      "provenance": [],
      "authorship_tag": "ABX9TyM+gRuUcFnKhBggG9LOzDVU",
      "include_colab_link": true
    },
    "kernelspec": {
      "name": "python3",
      "display_name": "Python 3"
    },
    "language_info": {
      "name": "python"
    }
  },
  "cells": [
    {
      "cell_type": "markdown",
      "metadata": {
        "id": "view-in-github",
        "colab_type": "text"
      },
      "source": [
        "<a href=\"https://colab.research.google.com/github/SohomCh/NLP/blob/main/tf_idf.ipynb\" target=\"_parent\"><img src=\"https://colab.research.google.com/assets/colab-badge.svg\" alt=\"Open In Colab\"/></a>"
      ]
    },
    {
      "cell_type": "code",
      "execution_count": 1,
      "metadata": {
        "id": "GJ5IkTdczr8_"
      },
      "outputs": [],
      "source": [
        "from sklearn.feature_extraction.text import TfidfVectorizer\n",
        "corpus = [\n",
        "    \"Thor eating pizza, Loki is eating pizza, Ironman ate pizza already\",\n",
        "    \"Apple is announcing new iphone tomorrow\",\n",
        "    \"Tesla is announcing new model-3 tomorrow\",\n",
        "    \"Google is announcing new pixel-6 tomorrow\",\n",
        "    \"Microsoft is announcing new surface tomorrow\",\n",
        "    \"Amazon is announcing new eco-dot tomorrow\",\n",
        "    \"I am eating biryani and you are eating grapes\"\n",
        "]\n",
        ""
      ]
    },
    {
      "cell_type": "code",
      "source": [
        "v=TfidfVectorizer()\n",
        "transformed_output=v.fit_transform(corpus)\n",
        "\n",
        "print(v.vocabulary_)\n",
        "\n"
      ],
      "metadata": {
        "colab": {
          "base_uri": "https://localhost:8080/"
        },
        "id": "9QXEy1DB0H5Z",
        "outputId": "5a8ac81e-9e1d-4596-b1b6-61037500c532"
      },
      "execution_count": 4,
      "outputs": [
        {
          "output_type": "stream",
          "name": "stdout",
          "text": [
            "{'thor': 25, 'eating': 10, 'pizza': 22, 'loki': 17, 'is': 16, 'ironman': 15, 'ate': 7, 'already': 0, 'apple': 5, 'announcing': 4, 'new': 20, 'iphone': 14, 'tomorrow': 26, 'tesla': 24, 'model': 19, 'google': 12, 'pixel': 21, 'microsoft': 18, 'surface': 23, 'amazon': 2, 'eco': 11, 'dot': 9, 'am': 1, 'biryani': 8, 'and': 3, 'you': 27, 'are': 6, 'grapes': 13}\n"
          ]
        }
      ]
    },
    {
      "cell_type": "code",
      "source": [
        "all_features_name=v.get_feature_names_out()\n",
        "for word in all_features_name:\n",
        "  idx=v.vocabulary_.get(word)\n",
        "  idf_score=print(v.idf_[idx])\n",
        "  print(f\"{word} : {idf_score}\")"
      ],
      "metadata": {
        "colab": {
          "base_uri": "https://localhost:8080/"
        },
        "id": "7C411QzU0oB8",
        "outputId": "7cb7a381-9f27-4ebb-a883-c15d088af597"
      },
      "execution_count": 10,
      "outputs": [
        {
          "output_type": "stream",
          "name": "stdout",
          "text": [
            "2.386294361119891\n",
            "already : None\n",
            "2.386294361119891\n",
            "am : None\n",
            "2.386294361119891\n",
            "amazon : None\n",
            "2.386294361119891\n",
            "and : None\n",
            "1.2876820724517808\n",
            "announcing : None\n",
            "2.386294361119891\n",
            "apple : None\n",
            "2.386294361119891\n",
            "are : None\n",
            "2.386294361119891\n",
            "ate : None\n",
            "2.386294361119891\n",
            "biryani : None\n",
            "2.386294361119891\n",
            "dot : None\n",
            "1.9808292530117262\n",
            "eating : None\n",
            "2.386294361119891\n",
            "eco : None\n",
            "2.386294361119891\n",
            "google : None\n",
            "2.386294361119891\n",
            "grapes : None\n",
            "2.386294361119891\n",
            "iphone : None\n",
            "2.386294361119891\n",
            "ironman : None\n",
            "1.1335313926245225\n",
            "is : None\n",
            "2.386294361119891\n",
            "loki : None\n",
            "2.386294361119891\n",
            "microsoft : None\n",
            "2.386294361119891\n",
            "model : None\n",
            "1.2876820724517808\n",
            "new : None\n",
            "2.386294361119891\n",
            "pixel : None\n",
            "2.386294361119891\n",
            "pizza : None\n",
            "2.386294361119891\n",
            "surface : None\n",
            "2.386294361119891\n",
            "tesla : None\n",
            "2.386294361119891\n",
            "thor : None\n",
            "1.2876820724517808\n",
            "tomorrow : None\n",
            "2.386294361119891\n",
            "you : None\n"
          ]
        }
      ]
    },
    {
      "cell_type": "code",
      "source": [
        "v=TfidfVectorizer()\n",
        "transformed_output=v.fit_transform(corpus)\n",
        "\n",
        "print(v.vocabulary_)\n",
        "\n",
        "print(transformed_output.toarray())"
      ],
      "metadata": {
        "colab": {
          "base_uri": "https://localhost:8080/"
        },
        "id": "rmDaSMMr07gx",
        "outputId": "3228b759-2efd-44b5-99f5-b4b37635be79"
      },
      "execution_count": 15,
      "outputs": [
        {
          "output_type": "stream",
          "name": "stdout",
          "text": [
            "{'thor': 25, 'eating': 10, 'pizza': 22, 'loki': 17, 'is': 16, 'ironman': 15, 'ate': 7, 'already': 0, 'apple': 5, 'announcing': 4, 'new': 20, 'iphone': 14, 'tomorrow': 26, 'tesla': 24, 'model': 19, 'google': 12, 'pixel': 21, 'microsoft': 18, 'surface': 23, 'amazon': 2, 'eco': 11, 'dot': 9, 'am': 1, 'biryani': 8, 'and': 3, 'you': 27, 'are': 6, 'grapes': 13}\n",
            "[[0.24266547 0.         0.         0.         0.         0.\n",
            "  0.         0.24266547 0.         0.         0.40286636 0.\n",
            "  0.         0.         0.         0.24266547 0.11527033 0.24266547\n",
            "  0.         0.         0.         0.         0.72799642 0.\n",
            "  0.         0.24266547 0.         0.        ]\n",
            " [0.         0.         0.         0.         0.30652086 0.5680354\n",
            "  0.         0.         0.         0.         0.         0.\n",
            "  0.         0.         0.5680354  0.         0.26982671 0.\n",
            "  0.         0.         0.30652086 0.         0.         0.\n",
            "  0.         0.         0.30652086 0.        ]\n",
            " [0.         0.         0.         0.         0.30652086 0.\n",
            "  0.         0.         0.         0.         0.         0.\n",
            "  0.         0.         0.         0.         0.26982671 0.\n",
            "  0.         0.5680354  0.30652086 0.         0.         0.\n",
            "  0.5680354  0.         0.30652086 0.        ]\n",
            " [0.         0.         0.         0.         0.30652086 0.\n",
            "  0.         0.         0.         0.         0.         0.\n",
            "  0.5680354  0.         0.         0.         0.26982671 0.\n",
            "  0.         0.         0.30652086 0.5680354  0.         0.\n",
            "  0.         0.         0.30652086 0.        ]\n",
            " [0.         0.         0.         0.         0.30652086 0.\n",
            "  0.         0.         0.         0.         0.         0.\n",
            "  0.         0.         0.         0.         0.26982671 0.\n",
            "  0.5680354  0.         0.30652086 0.         0.         0.5680354\n",
            "  0.         0.         0.30652086 0.        ]\n",
            " [0.         0.         0.49391316 0.         0.26652333 0.\n",
            "  0.         0.         0.         0.49391316 0.         0.49391316\n",
            "  0.         0.         0.         0.         0.23461736 0.\n",
            "  0.         0.         0.26652333 0.         0.         0.\n",
            "  0.         0.         0.26652333 0.        ]\n",
            " [0.         0.33794257 0.         0.33794257 0.         0.\n",
            "  0.33794257 0.         0.33794257 0.         0.56104271 0.\n",
            "  0.         0.33794257 0.         0.         0.         0.\n",
            "  0.         0.         0.         0.         0.         0.\n",
            "  0.         0.         0.         0.33794257]]\n"
          ]
        }
      ]
    },
    {
      "cell_type": "code",
      "source": [],
      "metadata": {
        "id": "EZ4bp8x96vGp"
      },
      "execution_count": null,
      "outputs": []
    }
  ]
}