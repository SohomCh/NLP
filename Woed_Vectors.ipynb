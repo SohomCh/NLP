{
  "nbformat": 4,
  "nbformat_minor": 0,
  "metadata": {
    "colab": {
      "provenance": [],
      "authorship_tag": "ABX9TyNuoBJ4HSYKon5Vt/rpqM9C",
      "include_colab_link": true
    },
    "kernelspec": {
      "name": "python3",
      "display_name": "Python 3"
    },
    "language_info": {
      "name": "python"
    }
  },
  "cells": [
    {
      "cell_type": "markdown",
      "metadata": {
        "id": "view-in-github",
        "colab_type": "text"
      },
      "source": [
        "<a href=\"https://colab.research.google.com/github/SohomCh/NLP/blob/main/Woed_Vectors.ipynb\" target=\"_parent\"><img src=\"https://colab.research.google.com/assets/colab-badge.svg\" alt=\"Open In Colab\"/></a>"
      ]
    },
    {
      "cell_type": "code",
      "execution_count": 3,
      "metadata": {
        "colab": {
          "base_uri": "https://localhost:8080/"
        },
        "id": "mzy9rrxy-yd_",
        "outputId": "6c285194-6c48-430d-89af-c39dc44d3784"
      },
      "outputs": [
        {
          "output_type": "stream",
          "name": "stdout",
          "text": [
            "Collecting en-core-web-lg==3.8.0\n",
            "  Downloading https://github.com/explosion/spacy-models/releases/download/en_core_web_lg-3.8.0/en_core_web_lg-3.8.0-py3-none-any.whl (400.7 MB)\n",
            "\u001b[2K     \u001b[90m━━━━━━━━━━━━━━━━━━━━━━━━━━━━━━━━━━━━━━━\u001b[0m \u001b[32m400.7/400.7 MB\u001b[0m \u001b[31m4.4 MB/s\u001b[0m eta \u001b[36m0:00:00\u001b[0m\n",
            "\u001b[?25hInstalling collected packages: en-core-web-lg\n",
            "Successfully installed en-core-web-lg-3.8.0\n",
            "\u001b[38;5;2m✔ Download and installation successful\u001b[0m\n",
            "You can now load the package via spacy.load('en_core_web_lg')\n",
            "\u001b[38;5;3m⚠ Restart to reload dependencies\u001b[0m\n",
            "If you are in a Jupyter or Colab notebook, you may need to restart Python in\n",
            "order to load all the package's dependencies. You can do this by selecting the\n",
            "'Restart kernel' or 'Restart runtime' option.\n"
          ]
        }
      ],
      "source": [
        "!python -m spacy download en_core_web_lg\n",
        "\n",
        "import spacy\n",
        "\n",
        "\n",
        "nlp = spacy.load(\"en_core_web_lg\")"
      ]
    },
    {
      "cell_type": "code",
      "source": [
        "import spacy\n",
        "\n",
        "\n",
        "nlp = spacy.load(\"en_core_web_lg\")\n",
        "doc = nlp(\"dog cat banana afsdk\")\n",
        "for token in doc:\n",
        "  print(\"Text : \", token.text, \" |Vector : \",token.has_vector,\"| OOV: \", token.is_oov)\n"
      ],
      "metadata": {
        "colab": {
          "base_uri": "https://localhost:8080/"
        },
        "id": "WJKgsgkU_GW6",
        "outputId": "64b956b0-30dd-4c10-c205-99ac1fcb661c"
      },
      "execution_count": 6,
      "outputs": [
        {
          "output_type": "stream",
          "name": "stdout",
          "text": [
            "Text :  dog  |Vector :  True | OOV:  False\n",
            "Text :  cat  |Vector :  True | OOV:  False\n",
            "Text :  banana  |Vector :  True | OOV:  False\n",
            "Text :  afsdk  |Vector :  False | OOV:  True\n"
          ]
        }
      ]
    },
    {
      "cell_type": "code",
      "source": [
        "base_token=nlp(\"bread\")\n",
        "doc=nlp(\"sandwich burger pizza butter wheat car tiger\")\n",
        "for token in doc:\n",
        "  print(base_token.text,\"<->\",token.text,base_token.similarity(token))"
      ],
      "metadata": {
        "colab": {
          "base_uri": "https://localhost:8080/"
        },
        "id": "QUdANFV0AbEA",
        "outputId": "6d9d59bd-96df-46bf-c72e-e4241b1cde09"
      },
      "execution_count": 9,
      "outputs": [
        {
          "output_type": "stream",
          "name": "stdout",
          "text": [
            "bread <-> sandwich 0.6874560117721558\n",
            "bread <-> burger 0.544037401676178\n",
            "bread <-> pizza 0.6754294633865356\n",
            "bread <-> butter 0.7272146940231323\n",
            "bread <-> wheat 0.6572456359863281\n",
            "bread <-> car 0.16441147029399872\n",
            "bread <-> tiger 0.14492356777191162\n"
          ]
        }
      ]
    },
    {
      "cell_type": "code",
      "source": [
        "def print_similarity(base_word, word_to_compare):\n",
        "  base_word=nlp(base_word)\n",
        "  doc=nlp(word_to_compare)\n",
        "  for token in doc:\n",
        "    print(token.text,\"<->\",base_word.text,base_word.similarity(token))"
      ],
      "metadata": {
        "id": "CsuM12ImBTOE"
      },
      "execution_count": 10,
      "outputs": []
    },
    {
      "cell_type": "code",
      "source": [
        "print_similarity(\"iphone\",\" Mobile  MAC Apple Samsung Google, Huawei oneplus Pilot charger\")"
      ],
      "metadata": {
        "colab": {
          "base_uri": "https://localhost:8080/"
        },
        "id": "EcHv_Ed3GlIe",
        "outputId": "fd48fad6-5f98-4330-b8a0-14b7e8309cb2"
      },
      "execution_count": 15,
      "outputs": [
        {
          "output_type": "stream",
          "name": "stdout",
          "text": [
            "  <-> iphone 0.0\n",
            "Mobile <-> iphone 0.5656006336212158\n",
            "  <-> iphone 0.0\n",
            "MAC <-> iphone 0.592758297920227\n",
            "Apple <-> iphone 0.6339781284332275\n",
            "Samsung <-> iphone 0.6678677797317505\n",
            "Google <-> iphone 0.5834923386573792\n",
            ", <-> iphone 0.1320381462574005\n",
            "Huawei <-> iphone 0.42133980989456177\n",
            "oneplus <-> iphone 0.0\n",
            "Pilot <-> iphone 0.09440076351165771\n",
            "charger <-> iphone 0.4622991383075714\n"
          ]
        },
        {
          "output_type": "stream",
          "name": "stderr",
          "text": [
            "/tmp/ipython-input-1727964635.py:5: UserWarning: [W008] Evaluating Doc.similarity based on empty vectors.\n",
            "  print(token.text,\"<->\",base_word.text,base_word.similarity(token))\n"
          ]
        }
      ]
    },
    {
      "cell_type": "code",
      "source": [
        "king = nlp.vocab[\"king\"].vector\n",
        "man = nlp.vocab[\"man\"].vector\n",
        "woman = nlp.vocab[\"woman\"].vector\n",
        "queen = nlp.vocab[\"queen\"].vector\n",
        "\n",
        "result = king - man + woman"
      ],
      "metadata": {
        "id": "_-axs0WhHDEb"
      },
      "execution_count": 16,
      "outputs": []
    },
    {
      "cell_type": "code",
      "source": [
        "from sklearn.metrics.pairwise import cosine_similarity\n",
        "\n",
        "cosine_similarity([result], [queen])"
      ],
      "metadata": {
        "colab": {
          "base_uri": "https://localhost:8080/"
        },
        "id": "0wvloRgXHxl9",
        "outputId": "b4ff0737-7220-4220-a817-28064301af59"
      },
      "execution_count": 17,
      "outputs": [
        {
          "output_type": "execute_result",
          "data": {
            "text/plain": [
              "array([[0.78808445]], dtype=float32)"
            ]
          },
          "metadata": {},
          "execution_count": 17
        }
      ]
    },
    {
      "cell_type": "code",
      "source": [],
      "metadata": {
        "id": "RVW9N57lH02j"
      },
      "execution_count": null,
      "outputs": []
    }
  ]
}